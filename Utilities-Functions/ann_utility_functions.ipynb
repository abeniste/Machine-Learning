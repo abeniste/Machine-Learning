{
 "cells": [
  {
   "cell_type": "code",
   "execution_count": 16,
   "id": "ea9e3d71",
   "metadata": {},
   "outputs": [],
   "source": [
    "from sklearn.datasets import make_circles\n",
    "import numpy as np\n",
    "import torch\n",
    "import torch.nn as nn\n",
    "import pandas as pd\n",
    "import torchmetrics\n",
    "\n",
    "import torch.nn as nn\n",
    "import matplotlib.pyplot as plt\n",
    "\n",
    "# Split data into train and test sets\n",
    "from sklearn.model_selection import train_test_split\n",
    "from sklearn.datasets import make_blobs\n",
    "\n",
    "# for timing computations\n",
    "import time\n",
    "\n",
    "import os    \n",
    "os.environ['KMP_DUPLICATE_LIB_OK'] = 'True'"
   ]
  },
  {
   "cell_type": "markdown",
   "id": "8f3a3851",
   "metadata": {},
   "source": [
    "### Plots"
   ]
  },
  {
   "cell_type": "code",
   "execution_count": 3,
   "id": "7ee0cd44",
   "metadata": {},
   "outputs": [],
   "source": [
    "def plot_decision_boundary(model: torch.nn.Module, X: torch.Tensor, y: torch.Tensor):\n",
    "    \"\"\"Plots decision boundaries of model predicting on X in comparison to y.\n",
    "\n",
    "    Source - https://madewithml.com/courses/foundations/neural-networks/ (with modifications)\n",
    "    \"\"\"\n",
    "    # Put everything to CPU (works better with NumPy + Matplotlib)\n",
    "    model.to(\"cpu\")\n",
    "    X, y = X.to(\"cpu\"), y.to(\"cpu\")\n",
    "\n",
    "    # Setup prediction boundaries and grid\n",
    "    x_min, x_max = X[:, 0].min() - 0.1, X[:, 0].max() + 0.1\n",
    "    y_min, y_max = X[:, 1].min() - 0.1, X[:, 1].max() + 0.1\n",
    "    xx, yy = np.meshgrid(np.linspace(x_min, x_max, 101), np.linspace(y_min, y_max, 101))\n",
    "\n",
    "    # Make features\n",
    "    X_to_pred_on = torch.from_numpy(np.column_stack((xx.ravel(), yy.ravel()))).float()\n",
    "\n",
    "    # Make predictions\n",
    "    model.eval()\n",
    "    with torch.inference_mode():\n",
    "        y_logits = model(X_to_pred_on)\n",
    "\n",
    "    # Test for multi-class or binary and adjust logits to prediction labels\n",
    "    if len(torch.unique(y)) > 2:\n",
    "        y_pred = torch.softmax(y_logits, dim=1).argmax(dim=1)  # mutli-class\n",
    "    else:\n",
    "        y_pred = torch.round(torch.sigmoid(y_logits))  # binary\n",
    "\n",
    "    # Reshape preds and plot\n",
    "    y_pred = y_pred.reshape(xx.shape).detach().numpy()\n",
    "    plt.contourf(xx, yy, y_pred, cmap=plt.cm.RdYlBu, alpha=0.7)\n",
    "    plt.scatter(X[:, 0], X[:, 1], c=y, s=40, cmap=plt.cm.RdYlBu)\n",
    "    plt.xlim(xx.min(), xx.max())\n",
    "    plt.ylim(yy.min(), yy.max())"
   ]
  },
  {
   "cell_type": "code",
   "execution_count": 4,
   "id": "2fba5770",
   "metadata": {},
   "outputs": [],
   "source": [
    "def plot_model_boundary(model, X_train, y_train, X_test, y_test):\n",
    "    plt.figure(figsize=(12, 6))\n",
    "    plt.subplot(1, 2, 1)\n",
    "    plt.title(\"Train\")\n",
    "    plot_decision_boundary(model, X_train, y_train)\n",
    "    plt.subplot(1, 2, 2)\n",
    "    plt.title(\"Test\")\n",
    "    plot_decision_boundary(model, X_test, y_test) "
   ]
  },
  {
   "cell_type": "code",
   "execution_count": 9,
   "id": "c9d0063e",
   "metadata": {},
   "outputs": [],
   "source": [
    "def plot_loss_accuracy_by_epochs(loss=None, accuracy=None):\n",
    "    \"\"\"\n",
    "    Plot the loss and accuracy by epochs after traing the model.\n",
    "    Parameters:\n",
    "        loss (tuple): train loss followed by test loss. Ex.: (loss_train, loss_test)\n",
    "        accuracy (tuple): train accuracy followed by test accuracy. Ex.: (acc_train, acc_test)\n",
    "    \"\"\"\n",
    "    \n",
    "    fig,ax = plt.subplots(1, 2, figsize=(16,5))\n",
    "    if (loss is not None):\n",
    "        ax[0].plot(loss[0], 's-', label='Train')\n",
    "        ax[0].plot(loss[1], 's-', label='Test')\n",
    "        ax[0].set_xlabel('Epochs')\n",
    "        ax[0].set_ylabel('Loss')\n",
    "        ax[0].set_title('Model loss')\n",
    "        ax[0].legend()\n",
    "        \n",
    "    if (accuracy is not None):\n",
    "        ax[1].plot(accuracy[0], 's-', label='Train')\n",
    "        ax[1].plot(accuracy[1], 'o-', label='Test')\n",
    "        ax[1].set_xlabel('Epochs')\n",
    "        ax[1].set_ylabel('Accuracy (%)')\n",
    "        ax[1].set_title(f'Final model test accuracy: {accuracy[1][-1]*100:.2f}%')\n",
    "        ax[1].legend()\n",
    "\n",
    "    plt.show()"
   ]
  },
  {
   "cell_type": "code",
   "execution_count": 77,
   "id": "3d2ecb88",
   "metadata": {},
   "outputs": [],
   "source": [
    "def plot_metrics_by_epochs_old(dict_stats, overlay=None):\n",
    "    \"\"\" Plot graph in subplots with some statitistics gather during the model training\n",
    "        Args:\n",
    "            dict_stats (dict): dictionary with stats as key and the list of stat computation as value\n",
    "    \"\"\"\n",
    "    \n",
    "    total_metrics = int(len(dict_stats))\n",
    "    #total_subplots = 2\n",
    "    #total_fig = int(np.ceil(total_metrics/total_subplots))\n",
    "    fig, ax = plt.subplots(nrows=1, ncols=total_metrics, figsize=(10,4))\n",
    "    fig.tight_layout(pad=3)\n",
    "    \n",
    "    for idx, metric in enumerate(dict_stats):\n",
    "        values = dict_stats.get(metric)\n",
    "        ax[idx].plot(values, 'o')\n",
    "        ax[idx].plot(len(values), values[-1], 'ro')\n",
    "        ax[idx].set_xlabel(\"Epcoch\")\n",
    "        ax[idx].set_ylabel(metric)\n",
    "        metric_value = np.round(values[-1], 3)\n",
    "        print(metric_value)\n",
    "        ax[idx].set_title(f\"Last {metric}: {metric_value}\")\n",
    "        ax[idx].grid()\n",
    "    plt.show()\n",
    "    \n",
    "    # plot two or more metrics in the same chart\n",
    "    if (overlay == \"all\"):\n",
    "        overlay = list(training_stats.keys())\n",
    "    else: \n",
    "        if not isinstance(overlay, list):\n",
    "            overlay=None\n",
    "        \n",
    "    if (overlay is not None):\n",
    "        plt.figure(figsize=(6, 4))\n",
    "        for idx, metric in enumerate(overlay):\n",
    "            value = dict_stats.get(metric)\n",
    "            if (value is not None):\n",
    "                plt.plot(dict_stats.get(metric))\n",
    "        plt.xlabel(\"Epochs\")\n",
    "        print(\",\".join(overlay))\n",
    "        plt.legend(overlay)\n",
    "        plt.title(\" vs. \".join(overlay))\n",
    "        plt.show()"
   ]
  },
  {
   "cell_type": "code",
   "execution_count": 9,
   "id": "20eca4bb",
   "metadata": {},
   "outputs": [],
   "source": [
    "def plot_predictions(\n",
    "    train_data,\n",
    "    train_labels,\n",
    "    test_data,\n",
    "    test_labels,\n",
    "    predictions=None\n",
    "):\n",
    "    plt.figure(figsize=(7, 5))\n",
    "    plt.legend(prop={\"size\": 10})\n",
    "    plt.xlabel(\"observations\")\n",
    "    plt.ylabel(\"Y\")\n",
    "    # plot training data in blue\n",
    "    plt.scatter(x=train_data, y=train_labels, c=\"b\", s=4, label=\"Training data set\")\n",
    "    \n",
    "    # plot training data in blue\n",
    "    plt.scatter(x=test_data, y=test_labels, c=\"g\", s=4, label=\"Testing data set\")\n",
    "    \n",
    "    if predictions is not None:\n",
    "        plt.scatter(test_data, predictions, c=\"red\", s=4, label=\"Predictions data set\")"
   ]
  },
  {
   "cell_type": "code",
   "execution_count": 31,
   "id": "b8145f65",
   "metadata": {},
   "outputs": [],
   "source": [
    "def plot_classification_metrics(y_true, y_pred, average=None):\n",
    "    metrics = [0,0,0,0]\n",
    "    metrics[0] = classification_accuracy(y_true, y_pred)\n",
    "    metrics[1] = classification_precision(y_true, y_pred, average)\n",
    "    metrics[2] = classification_recall(y_true, y_pred, average)\n",
    "    metrics[3] = classification_f1_score(y_true, y_pred, average)\n",
    "    \n",
    "    plt.bar(np.arange(4)-.1,metrics,.5)\n",
    "    plt.xticks([0,1,2,3],['Accuracy','Precision','Recall','F1-score'])\n",
    "    plt.ylim([.6,1])\n",
    "    plt.legend(['Metrics'])\n",
    "    plt.title('Performance metrics')\n",
    "    plt.show()"
   ]
  },
  {
   "cell_type": "code",
   "execution_count": 66,
   "id": "3ad2fbf2",
   "metadata": {},
   "outputs": [],
   "source": [
    "def plot_bar_performance_metrics(y_train_true, y_test_true, y_train_pred, y_test_pred, average=\"weighted\"):\n",
    "    \"\"\"\n",
    "    Plot all classification metrics (accuracy, precision, recall and f1 score) in a bar chart.\n",
    "    Parameters:\n",
    "        y_train_true: true values from the training set\n",
    "        y_test_true: true values from the test set\n",
    "        y_train_pred: prediction from the model using the train set\n",
    "        y_test_pred: prediction from the model using the test set\n",
    "        \n",
    "        if you are using dataloaders, you can access the labels using train/test_loader.dataset.tensors[1] \n",
    "            to y_train_true/y_test_true parameters\n",
    "    \"\"\"\n",
    "    # initialize vectors\n",
    "    train_metrics = [0,0,0,0]\n",
    "    test_metrics  = [0,0,0,0]\n",
    "    \n",
    "    # training\n",
    "    train_metrics[0] = classification_accuracy(y_train_true, y_train_pred)\n",
    "    train_metrics[1] = classification_precision(y_train_true, y_train_pred, average=average)\n",
    "    train_metrics[2] = classification_recall(y_train_true, y_train_pred, average=average)\n",
    "    train_metrics[3] = classification_f1_score(y_train_true, y_train_pred, average=average)\n",
    "    \n",
    "    # test\n",
    "    test_metrics[0] = classification_accuracy(y_test_true, y_test_pred)\n",
    "    test_metrics[1] = classification_precision(y_test_true, y_test_pred, average=average)\n",
    "    test_metrics[2] = classification_recall(y_test_true, y_test_pred, average=average)\n",
    "    test_metrics[3] = classification_f1_score(y_test_true, y_test_pred, average=average)\n",
    "    \n",
    "    \n",
    "    plt.bar(np.arange(4)-.1,train_metrics,.5)\n",
    "    plt.bar(np.arange(4)+.1,test_metrics,.5)\n",
    "    plt.xticks([0,1,2,3],['Accuracy','Precision','Recall','F1-score'])\n",
    "    plt.ylim([.6,1])\n",
    "    plt.legend(['Train','Test'])\n",
    "    plt.title('Performance metrics')\n",
    "    plt.show()"
   ]
  },
  {
   "cell_type": "markdown",
   "id": "d46a961f",
   "metadata": {},
   "source": [
    "### Accuracy"
   ]
  },
  {
   "cell_type": "code",
   "execution_count": 68,
   "id": "30fb3d25",
   "metadata": {},
   "outputs": [],
   "source": [
    "def classification_accuracy(y_true, y_pred):\n",
    "    \"\"\"\n",
    "    Accuracy metric gives an overall accuracy of the model.\n",
    "    A higher the accuracy the better is the performance of the model.\n",
    "    The formula is TP/(total number of samples)\n",
    "    Parameters:\n",
    "        y_true (tensor, array): true values from the dataset\n",
    "        y_pred (tensor, array): the predicted values from the model\n",
    "    \"\"\"\n",
    "    from sklearn.metrics import accuracy_score   \n",
    "    return accuracy_score(y_true, y_pred)"
   ]
  },
  {
   "cell_type": "code",
   "execution_count": 69,
   "id": "6651da3f",
   "metadata": {},
   "outputs": [],
   "source": [
    "def classification_precision(y_true, y_pred, average=None):\n",
    "    \"\"\"\n",
    "    Precision metric includes a cost for 'yes' biases. Useful when false positive are bad like predict a disease.\n",
    "    A high precision means less bias (false positve).\n",
    "    The formula is TP/(TP + FP)\n",
    "    Parameters:\n",
    "        y_true (tensor, array): true values from the dataset\n",
    "        y_pred (tensor, array): the predicted values from the model\n",
    "        average: in case for multiclass classification, speciy the average to group all classes ('weighted' or 'macro')\n",
    "    \"\"\"\n",
    "    from sklearn.metrics import precision_score   \n",
    "    return precision_score(y_true, y_pred, average=average)"
   ]
  },
  {
   "cell_type": "code",
   "execution_count": 70,
   "id": "7109fd9c",
   "metadata": {},
   "outputs": [],
   "source": [
    "def classification_recall(y_true, y_pred, average=None):\n",
    "    \"\"\"\n",
    "    Recall metric includes a cost for 'no' biases. Useful when false negative are bad like flu.\n",
    "    A high recall means less bias (false negative).\n",
    "    The formula is TP/(TP + FN)\n",
    "    Parameters:\n",
    "        y_true (tensor, array): true values from the dataset\n",
    "        y_pred (tensor, array): the predicted values from the model\n",
    "        average: in case for multiclass classification, speciy the average to group all classes ('weighted' or 'macro')\n",
    "    \"\"\"\n",
    "    from sklearn.metrics import recall_score   \n",
    "    return recall_score(y_true, y_pred, average=average)"
   ]
  },
  {
   "cell_type": "code",
   "execution_count": 71,
   "id": "9b85172d",
   "metadata": {},
   "outputs": [],
   "source": [
    "def classification_f1_score(y_true, y_pred, average=None):\n",
    "    \"\"\"\n",
    "    F1 metric incorporate accuracy, precision and recall in one metric. F1 is high only with few mistakes.\n",
    "    The formula is TP/(TP + (FP+FN)/2)\n",
    "    Parameters:\n",
    "        y_true (tensor, array): true values from the dataset\n",
    "        y_pred (tensor, array): the predicted values from the model\n",
    "        average: in case for multiclass classification, speciy the average to group all classes ('weighted' or 'macro')\n",
    "    \"\"\"\n",
    "    from sklearn.metrics import f1_score   \n",
    "    return f1_score(y_true, y_pred, average=average)"
   ]
  },
  {
   "cell_type": "code",
   "execution_count": 30,
   "id": "fc88a38f",
   "metadata": {},
   "outputs": [],
   "source": [
    "def compute_classification_metrics(y_true, y_pred, average=None):\n",
    "    print(f\"Accuracy: {classification_accuracy(y_true, y_pred)*100:.2f}\")\n",
    "    print(f\"Precision: {classification_precision(y_true, y_pred, average=average)*100:.2f}\")\n",
    "    print(f\"Recall: {classification_recall(y_true, y_pred, average=average)*100:.2f}\")\n",
    "    print(f\"F1-score: {classification_f1_score(y_true, y_pred, average=average)*100:.2f}\")"
   ]
  },
  {
   "cell_type": "code",
   "execution_count": 6,
   "id": "aad3b631",
   "metadata": {},
   "outputs": [],
   "source": [
    "def get_accuracy_regression_r2_score(test_label, predicted):\n",
    "    # The R2 score (pronounced R-Squared Score) is a statistical measure that tells us how well our model is making all its predictions on a scale of zero to one.\n",
    "    from sklearn.metrics import r2_score\n",
    "    return r2_score(test_label, predicted)"
   ]
  },
  {
   "cell_type": "code",
   "execution_count": 8,
   "id": "1f73b845",
   "metadata": {},
   "outputs": [],
   "source": [
    "def get_accuracy_regression_rmse(test_dataset, predicted, squared=False):\n",
    "    # example of calculate the mean squared error if squared=True otherwise return Root Mean Squared Error (RMSE)\n",
    "    from sklearn.metrics import mean_squared_error\n",
    "    return mean_squared_error(test_dataset, predicted, squared=False)"
   ]
  },
  {
   "cell_type": "code",
   "execution_count": 45,
   "id": "7c76fd1e",
   "metadata": {},
   "outputs": [],
   "source": [
    "def print_performance_metrics_aprf(y_true, y_pred, average=None):\n",
    "    print(f\"Accuracy: {classification_accuracy(y_true, y_pred)*100:.2f}%\")\n",
    "    print(f\"Precision: {classification_precision(y_true, y_pred, average)*100:.2f}%\")\n",
    "    print(f\"Recall: {classification_recall(y_true, y_pred, average)*100:.2f}%\")\n",
    "    print(f\"F1 Score: {classification_f1_score(y_true, y_pred, average)*100:.2f}%\")"
   ]
  },
  {
   "cell_type": "markdown",
   "id": "8058a7c6",
   "metadata": {},
   "source": [
    "### Feature scaling"
   ]
  },
  {
   "cell_type": "code",
   "execution_count": 7,
   "id": "ed674035",
   "metadata": {},
   "outputs": [],
   "source": [
    "def min_max_scaling(X_train, X_test):\n",
    "    from sklearn.preprocessing import MinMaxScaler\n",
    "    \n",
    "    scaler = MinMaxScaler()\n",
    "    scaler.fit(X_train)\n",
    "    \n",
    "    X_train = scaler.transform(X_train)\n",
    "    X_test = scaler.transform(X_test)\n",
    "    \n",
    "    return X_train, X_test"
   ]
  },
  {
   "cell_type": "code",
   "execution_count": 8,
   "id": "591b144d",
   "metadata": {},
   "outputs": [],
   "source": [
    "def max_abs_scaling(X_train, X_test):\n",
    "    from sklearn.preprocessing import MaxAbsScaler\n",
    "    \n",
    "    scaler = MaxAbsScaler()\n",
    "    scaler.fit(X_train)\n",
    "    \n",
    "    X_train = scaler.transform(X_train)\n",
    "    X_test = scaler.transform(X_test)\n",
    "    \n",
    "    return X_train, X_test"
   ]
  },
  {
   "cell_type": "markdown",
   "id": "c4b2a58e",
   "metadata": {},
   "source": [
    "### Generic model architecture"
   ]
  },
  {
   "cell_type": "code",
   "execution_count": 5,
   "id": "ce419135",
   "metadata": {},
   "outputs": [],
   "source": [
    "def generci_model_arquitecture(input_features, output_features, lr, hidden_units=5, model_only=False):\n",
    "    \"\"\"\n",
    "    Create the model architecture and its loss and optimizer funcitons. In case it needs only the model, set model_only=True\n",
    "    Args:\n",
    "        input_features (int): number of input features to the model\n",
    "        output_featrues (int): number of output features of the output model\n",
    "        lr (int): learning rate\n",
    "        hidden_units: number of nodes between layer.\n",
    "        model_only (bool): If True, it creates only the model or renitiaize the model without re-create the loss and optimizer funciton\n",
    "    \n",
    "    Return:\n",
    "        model, loss_funct and optimizer\n",
    "    \"\"\"\n",
    "    model = nn.Sequential(nn.Linear(in_features=input_features, out_features=hidden_units),\n",
    "                          nn.ReLU(),\n",
    "                          nn.Linear(in_features=hidden_units, out_features=hidden_units),\n",
    "                          nn.ReLU(),\n",
    "                          nn.Linear(in_features=hidden_units, out_features=output_features)\n",
    "                         )\n",
    "    \n",
    "    loss_funct = None\n",
    "    optimizer = None\n",
    "    # we may need to run only to have the model\n",
    "    if not (model_only):\n",
    "        loss_funct = nn.CrossEntropyLoss() \n",
    "        optimizer = torch.optim.SGD(model.parameters(), lr=lr)\n",
    "    \n",
    "    return model, loss_funct, optimizer"
   ]
  },
  {
   "cell_type": "markdown",
   "id": "a62b0062",
   "metadata": {},
   "source": [
    "### Saving the model"
   ]
  },
  {
   "cell_type": "code",
   "execution_count": 10,
   "id": "a1e1dc83",
   "metadata": {},
   "outputs": [],
   "source": [
    "def save_model_to_file(model, model_file_name):\n",
    "    \"\"\" Save the model to a file\n",
    "        Parameters:\n",
    "            model (dict): trained model to be saved\n",
    "            model_file_name (str): model file name\n",
    "    \"\"\"\n",
    "    # SAVE THE MODEL TO A FILE (SERIALIZATION)\n",
    "    from pathlib import Path\n",
    "\n",
    "    # create models directory\n",
    "    MODEL_PATH = Path(\"models\")\n",
    "    MODEL_PATH.mkdir(parents=True, exist_ok=True)\n",
    "\n",
    "    # create model save path\n",
    "    MODEL_NAME = model_file_name + \".pth\" # pytorh extenstion\n",
    "    MODEL_SAVE_PATH = MODEL_PATH / MODEL_NAME\n",
    "\n",
    "    # save the model\n",
    "    print(f\"Save the model under {MODEL_SAVE_PATH}\")\n",
    "    torch.save(obj=model.state_dict(), f=MODEL_SAVE_PATH)"
   ]
  },
  {
   "cell_type": "code",
   "execution_count": null,
   "id": "09dfa543",
   "metadata": {},
   "outputs": [],
   "source": []
  },
  {
   "cell_type": "markdown",
   "id": "1a810619",
   "metadata": {},
   "source": [
    "### Fuctions testing playground"
   ]
  },
  {
   "cell_type": "code",
   "execution_count": 67,
   "id": "34297a3d",
   "metadata": {},
   "outputs": [],
   "source": [
    "y_true = np.array([1, 1, 0, 0, 1.0, 0, 1])\n",
    "y_pred = np.array([0, 1, 0, 1, 1, 0, 3])"
   ]
  },
  {
   "cell_type": "code",
   "execution_count": 52,
   "id": "453f760e",
   "metadata": {},
   "outputs": [
    {
     "name": "stdout",
     "output_type": "stream",
     "text": [
      "Accuracy: 57.14%\n",
      "Precision: 59.52%\n",
      "Recall: 57.14%\n",
      "F1 Score: 57.14%\n"
     ]
    }
   ],
   "source": [
    "print_performance_metrics_aprf(y_true=y_true, y_pred=y_pred, average=\"weighted\")"
   ]
  },
  {
   "cell_type": "code",
   "execution_count": 61,
   "id": "0b11c5c1",
   "metadata": {},
   "outputs": [
    {
     "data": {
      "text/plain": [
       "array([0.66666667, 0.75      ])"
      ]
     },
     "execution_count": 61,
     "metadata": {},
     "output_type": "execute_result"
    }
   ],
   "source": [
    "from sklearn.metrics import precision_score   \n",
    "precision_score(y_true, y_pred, average=None)"
   ]
  },
  {
   "cell_type": "code",
   "execution_count": 65,
   "id": "cd66ab09",
   "metadata": {},
   "outputs": [],
   "source": []
  },
  {
   "cell_type": "code",
   "execution_count": 76,
   "id": "80748235",
   "metadata": {},
   "outputs": [
    {
     "name": "stderr",
     "output_type": "stream",
     "text": [
      "C:\\Users\\alberto.beniste\\.conda\\envs\\alberto_beniste\\lib\\site-packages\\sklearn\\metrics\\_classification.py:1344: UndefinedMetricWarning: Recall is ill-defined and being set to 0.0 in labels with no true samples. Use `zero_division` parameter to control this behavior.\n",
      "  _warn_prf(average, modifier, msg_start, len(result))\n",
      "C:\\Users\\alberto.beniste\\.conda\\envs\\alberto_beniste\\lib\\site-packages\\sklearn\\metrics\\_classification.py:1344: UndefinedMetricWarning: Recall is ill-defined and being set to 0.0 in labels with no true samples. Use `zero_division` parameter to control this behavior.\n",
      "  _warn_prf(average, modifier, msg_start, len(result))\n"
     ]
    },
    {
     "data": {
      "image/png": "[encoded data removed]",
      "text/plain": [
       "<Figure size 640x480 with 1 Axes>"
      ]
     },
     "metadata": {},
     "output_type": "display_data"
    }
   ],
   "source": [
    "plot_bar_performance_metrics(y_train_true=y_true, y_test_true=y_true, y_train_pred=y_pred, y_test_pred=y_pred, average=\"weighted\")"
   ]
  }
 ],
 "metadata": {
  "kernelspec": {
   "display_name": "Python 3 (ipykernel)",
   "language": "python",
   "name": "python3"
  },
  "language_info": {
   "codemirror_mode": {
    "name": "ipython",
    "version": 3
   },
   "file_extension": ".py",
   "mimetype": "text/x-python",
   "name": "python",
   "nbconvert_exporter": "python",
   "pygments_lexer": "ipython3",
   "version": "3.10.10"
  }
 },
 "nbformat": 4,
 "nbformat_minor": 5
}

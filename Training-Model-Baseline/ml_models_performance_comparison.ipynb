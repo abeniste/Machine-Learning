{
 "cells": [
  {
   "cell_type": "markdown",
   "id": "0d5f5f38",
   "metadata": {},
   "source": [
    "### Model performance comparison\n",
    "\n",
    "In this notebook, we are going to compare performance of many classification models using heart disease dataset.\n",
    "\n",
    "The basic framework to train a machine learning model using scikit-learn is as follow:\n",
    "1) Choose the model based on the problem you want to solve, regression or classification.\n",
    "2) Split the data into train set and test set.\n",
    "3) Depending on the model selected, you may need to peferom feature scaling\n",
    "4) Instanciate the model\n",
    "5) Execute the command model.fit()\n",
    "6) Exute the command model.predict() to get the predictions from the test set\n",
    "7) Evaluate the model using performance metrics\n",
    "\n",
    "In we compare one model against many others, we may end up with a extensive notebook.\n",
    "\n",
    "The goal here is to automate the workflow to evaluate three or four models at once."
   ]
  },
  {
   "cell_type": "markdown",
   "id": "2ba1117f",
   "metadata": {},
   "source": [
    "Three ways to fine tuning a model, which means to change the hyperparameters:\n",
    "1) by hand -  manually input one hyperparameter value per time.\n",
    "2) RandomizeSearchCV\n",
    "3) GridSearchCV - use a dictionary with a hyperparameter list of values. That is the one we will use here.\n",
    "\n",
    "The hyperparameters should be evaluated and changed based on the validation set, and NOT on test set. The test set should be used only at the end, when we are satisfied witht the performance."
   ]
  },
  {
   "cell_type": "markdown",
   "id": "9b8c7ad8",
   "metadata": {},
   "source": [
    "According to scikit-learn documentation, there are three ways to measure the model performance:\n",
    "1) Estimator/algorithm score() method.\n",
    "2) Using the 'scoring' parameter. This parameter is used in methods like cross_val_score and GridSearchCV. The advantage of it is that we can use many metrics at the same time.\n",
    "3) Metric functions, from scikit-learn or a custom made function based on specific needs."
   ]
  },
  {
   "cell_type": "code",
   "execution_count": 1,
   "id": "04b39e40",
   "metadata": {},
   "outputs": [
    {
     "name": "stderr",
     "output_type": "stream",
     "text": [
      "C:\\Users\\alberto.beniste\\.conda\\envs\\alberto_beniste\\lib\\site-packages\\scipy\\__init__.py:155: UserWarning: A NumPy version >=1.18.5 and <1.25.0 is required for this version of SciPy (detected version 1.25.0\n",
      "  warnings.warn(f\"A NumPy version >={np_minversion} and <{np_maxversion}\"\n"
     ]
    }
   ],
   "source": [
    "import pandas as pd\n",
    "import numpy as np\n",
    "import matplotlib.pyplot as plt\n",
    "import seaborn as sns\n",
    "\n",
    "## MODELS ##\n",
    "from sklearn.model_selection import train_test_split, cross_val_score, cross_validate, GridSearchCV\n",
    "from sklearn.ensemble import RandomForestClassifier\n",
    "from sklearn.linear_model import LinearRegression, Lasso, Ridge, LogisticRegression \n",
    "from sklearn.svm import SVC\n",
    "\n",
    "## METRICS ##\n",
    "# classificaton models\n",
    "from sklearn.metrics import accuracy_score, precision_score, recall_score, f1_score\n",
    "from sklearn.metrics import classification_report, confusion_matrix\n",
    "\n",
    "# in case you want silence warnings\n",
    "import warnings\n",
    "warnings.filterwarnings(\"ignore\") #\"default\""
   ]
  },
  {
   "cell_type": "markdown",
   "id": "f523284a",
   "metadata": {},
   "source": [
    "### Functions"
   ]
  },
  {
   "cell_type": "code",
   "execution_count": 2,
   "id": "83a99837",
   "metadata": {},
   "outputs": [],
   "source": [
    "def get_hyperparameters(estimator_name):\n",
    "    return estimator_name().get_params()"
   ]
  },
  {
   "cell_type": "code",
   "execution_count": 3,
   "id": "24e94eca",
   "metadata": {},
   "outputs": [],
   "source": [
    "def evaluate_preds(estimator_name, y_true, y_pred, average=None):\n",
    "    \"\"\"\n",
    "    Performs evaluation comparison on y_true labels vs. y_pred labels on a classification.\n",
    "    Parameters:\n",
    "        y_true: the true value from the dataset\n",
    "        y_pred: the precitions from the model\n",
    "        avarage: used in case it is a multi-class classification\n",
    "    Return:\n",
    "        metric_dict (dict): it returns a dictionary with the four metrics, used to plot the performance graph.\n",
    "    \"\"\"\n",
    "    accuracy = accuracy_score(y_true, y_pred)\n",
    "    precision = precision_score(y_true, y_pred)\n",
    "    recall = recall_score(y_true, y_pred)\n",
    "    f1 = f1_score(y_true, y_pred)\n",
    "    metric_dict = {\"model\": estimator_name,\n",
    "                   \"accuracy\": round(accuracy, 2),\n",
    "                   \"precision\": round(precision, 2),\n",
    "                   \"recall\": round(recall, 2),\n",
    "                   \"f1\": round(f1, 2)}\n",
    "    \n",
    "    return metric_dict"
   ]
  },
  {
   "cell_type": "code",
   "execution_count": 4,
   "id": "cede14c6",
   "metadata": {},
   "outputs": [],
   "source": [
    "def train_evaluate_model(X_train, X_test, y_train, y_test, model_grid, cv=5, verbose=2):\n",
    "    \"\"\"\n",
    "    \"\"\"\n",
    "    \n",
    "    # Create an empty data frame to add the set of metrics for eacg model\n",
    "    metrics_df = pd.DataFrame()\n",
    "    \n",
    "    # Go over the model dictrionary\n",
    "    for estimator_name, grid_key in model_grid.items():\n",
    "        # instantiate the estimator\n",
    "        model = eval(estimator_name + \"()\")\n",
    "        \n",
    "        # grid_search_dict contains the list of hyperparameters\n",
    "        grid_name, grid_search_dict = next(iter(grid_key.items()))\n",
    "        grid_model = GridSearchCV(estimator=model,\n",
    "                                  param_grid=grid_search_dict,\n",
    "                                  cv=cv,\n",
    "                                  verbose=verbose\n",
    "                     )\n",
    "        \n",
    "        # Now that we have the best model, fit to the data\n",
    "        grid_model.fit(X_train, y_train)\n",
    "        \n",
    "        # Get the predictions to measure the performance\n",
    "        y_pred = grid_model.predict(X_test)\n",
    "        \n",
    "        # calll function with 4 metrics performance\n",
    "        metric_dict = evaluate_preds(estimator_name=estimator_name, y_true=y_test, y_pred=y_pred)\n",
    "        metrics_df = pd.concat([metrics_df, pd.DataFrame([metric_dict])], ignore_index=True, keys=estimator_name)\n",
    "    \n",
    "    return metrics_df"
   ]
  },
  {
   "cell_type": "code",
   "execution_count": 5,
   "id": "4b153c42",
   "metadata": {},
   "outputs": [],
   "source": [
    "def plot_metrics(metric_df):\n",
    "    \"\"\"\n",
    "    Plot all four metrics per model\n",
    "    Parameters:\n",
    "        metric_df (DataFrame): data frame with the models and their performance metrics\n",
    "    \"\"\"\n",
    "    metric_df.plot.bar(x=\"model\")\n",
    "    plt.ylabel(\"Metric\")\n",
    "    plt.xticks(rotation=45)\n",
    "    plt.legend(loc='center left', bbox_to_anchor=(1.0, 0.5))\n",
    "    plt.show()\n"
   ]
  },
  {
   "cell_type": "markdown",
   "id": "5fcc78af",
   "metadata": {},
   "source": [
    "### Dataset"
   ]
  },
  {
   "cell_type": "code",
   "execution_count": 7,
   "id": "66898594",
   "metadata": {},
   "outputs": [],
   "source": [
    "df = pd.read_csv(\"heart-disease.csv\")"
   ]
  },
  {
   "cell_type": "code",
   "execution_count": 8,
   "id": "d03c2dec",
   "metadata": {},
   "outputs": [
    {
     "data": {
      "text/html": [
       "<div>\n",
       "<style scoped>\n",
       "    .dataframe tbody tr th:only-of-type {\n",
       "        vertical-align: middle;\n",
       "    }\n",
       "\n",
       "    .dataframe tbody tr th {\n",
       "        vertical-align: top;\n",
       "    }\n",
       "\n",
       "    .dataframe thead th {\n",
       "        text-align: right;\n",
       "    }\n",
       "</style>\n",
       "<table border=\"1\" class=\"dataframe\">\n",
       "  <thead>\n",
       "    <tr style=\"text-align: right;\">\n",
       "      <th></th>\n",
       "      <th>age</th>\n",
       "      <th>sex</th>\n",
       "      <th>cp</th>\n",
       "      <th>trestbps</th>\n",
       "      <th>chol</th>\n",
       "      <th>fbs</th>\n",
       "      <th>restecg</th>\n",
       "      <th>thalach</th>\n",
       "      <th>exang</th>\n",
       "      <th>oldpeak</th>\n",
       "      <th>slope</th>\n",
       "      <th>ca</th>\n",
       "      <th>thal</th>\n",
       "      <th>target</th>\n",
       "    </tr>\n",
       "  </thead>\n",
       "  <tbody>\n",
       "    <tr>\n",
       "      <th>0</th>\n",
       "      <td>63</td>\n",
       "      <td>1</td>\n",
       "      <td>3</td>\n",
       "      <td>145</td>\n",
       "      <td>233</td>\n",
       "      <td>1</td>\n",
       "      <td>0</td>\n",
       "      <td>150</td>\n",
       "      <td>0</td>\n",
       "      <td>2.3</td>\n",
       "      <td>0</td>\n",
       "      <td>0</td>\n",
       "      <td>1</td>\n",
       "      <td>1</td>\n",
       "    </tr>\n",
       "    <tr>\n",
       "      <th>1</th>\n",
       "      <td>37</td>\n",
       "      <td>1</td>\n",
       "      <td>2</td>\n",
       "      <td>130</td>\n",
       "      <td>250</td>\n",
       "      <td>0</td>\n",
       "      <td>1</td>\n",
       "      <td>187</td>\n",
       "      <td>0</td>\n",
       "      <td>3.5</td>\n",
       "      <td>0</td>\n",
       "      <td>0</td>\n",
       "      <td>2</td>\n",
       "      <td>1</td>\n",
       "    </tr>\n",
       "    <tr>\n",
       "      <th>2</th>\n",
       "      <td>41</td>\n",
       "      <td>0</td>\n",
       "      <td>1</td>\n",
       "      <td>130</td>\n",
       "      <td>204</td>\n",
       "      <td>0</td>\n",
       "      <td>0</td>\n",
       "      <td>172</td>\n",
       "      <td>0</td>\n",
       "      <td>1.4</td>\n",
       "      <td>2</td>\n",
       "      <td>0</td>\n",
       "      <td>2</td>\n",
       "      <td>1</td>\n",
       "    </tr>\n",
       "  </tbody>\n",
       "</table>\n",
       "</div>"
      ],
      "text/plain": [
       "   age  sex  cp  trestbps  chol  fbs  restecg  thalach  exang  oldpeak  slope   \n",
       "0   63    1   3       145   233    1        0      150      0      2.3      0  \\\n",
       "1   37    1   2       130   250    0        1      187      0      3.5      0   \n",
       "2   41    0   1       130   204    0        0      172      0      1.4      2   \n",
       "\n",
       "   ca  thal  target  \n",
       "0   0     1       1  \n",
       "1   0     2       1  \n",
       "2   0     2       1  "
      ]
     },
     "execution_count": 8,
     "metadata": {},
     "output_type": "execute_result"
    }
   ],
   "source": [
    "df.head(3)"
   ]
  },
  {
   "cell_type": "code",
   "execution_count": 9,
   "id": "703aadc3",
   "metadata": {},
   "outputs": [
    {
     "data": {
      "text/plain": [
       "((303, 13), (303,))"
      ]
     },
     "execution_count": 9,
     "metadata": {},
     "output_type": "execute_result"
    }
   ],
   "source": [
    "X = df.drop(columns=\"target\")\n",
    "y = df.target\n",
    "X.shape, y.shape"
   ]
  },
  {
   "cell_type": "markdown",
   "id": "3c593f51",
   "metadata": {},
   "source": [
    "### Split the data into train and test sets"
   ]
  },
  {
   "cell_type": "code",
   "execution_count": 10,
   "id": "e1929cb6",
   "metadata": {},
   "outputs": [],
   "source": [
    "# We will use only X_train and y_train to train the model.\n",
    "X_train, X_test, y_train, y_test = train_test_split(X, y, test_size=0.2) "
   ]
  },
  {
   "cell_type": "markdown",
   "id": "53b88bfc",
   "metadata": {},
   "source": [
    "### Create the hyperparameters dictionary per estimator\n",
    "\n",
    "Here we create the dictionary with all algorithms/estimator with its hyperparameters. Then, we use GridSearchCV to find the best hyperparameters."
   ]
  },
  {
   "cell_type": "code",
   "execution_count": 11,
   "id": "a662e398",
   "metadata": {},
   "outputs": [],
   "source": [
    "grid_model_cv = {\n",
    "    \"RandomForestClassifier\": {\"grid\": {\"n_estimators\": [2, 5, 10],\n",
    "                                       }\n",
    "                              },\n",
    "    \"LogisticRegression\": {\"grid\": {\"penalty\": ['l1', 'l2'],\n",
    "                                    \"C\": [100, 10, 1.0, 0.1, 0.01]\n",
    "                                   }\n",
    "                          }\n",
    "}"
   ]
  },
  {
   "cell_type": "code",
   "execution_count": 12,
   "id": "44c71d5b",
   "metadata": {},
   "outputs": [
    {
     "data": {
      "text/plain": [
       "{'RandomForestClassifier': {'grid': {'n_estimators': [2, 5, 10]}},\n",
       " 'LogisticRegression': {'grid': {'penalty': ['l1', 'l2'],\n",
       "   'C': [100, 10, 1.0, 0.1, 0.01]}}}"
      ]
     },
     "execution_count": 12,
     "metadata": {},
     "output_type": "execute_result"
    }
   ],
   "source": [
    "grid_model_cv"
   ]
  },
  {
   "cell_type": "markdown",
   "id": "633143a5",
   "metadata": {},
   "source": [
    "### Call the function that go over all estimators for each list of hyperparameters"
   ]
  },
  {
   "cell_type": "code",
   "execution_count": 13,
   "id": "eaf2aae3",
   "metadata": {
    "collapsed": true
   },
   "outputs": [
    {
     "name": "stdout",
     "output_type": "stream",
     "text": [
      "Fitting 5 folds for each of 3 candidates, totalling 15 fits\n",
      "[CV] END .....................................n_estimators=2; total time=   0.0s\n",
      "[CV] END .....................................n_estimators=2; total time=   0.0s\n",
      "[CV] END .....................................n_estimators=2; total time=   0.0s\n",
      "[CV] END .....................................n_estimators=2; total time=   0.0s\n",
      "[CV] END .....................................n_estimators=2; total time=   0.0s\n",
      "[CV] END .....................................n_estimators=5; total time=   0.0s\n",
      "[CV] END .....................................n_estimators=5; total time=   0.0s\n",
      "[CV] END .....................................n_estimators=5; total time=   0.0s\n",
      "[CV] END .....................................n_estimators=5; total time=   0.0s\n",
      "[CV] END .....................................n_estimators=5; total time=   0.0s\n",
      "[CV] END ....................................n_estimators=10; total time=   0.0s\n",
      "[CV] END ....................................n_estimators=10; total time=   0.0s\n",
      "[CV] END ....................................n_estimators=10; total time=   0.0s\n",
      "[CV] END ....................................n_estimators=10; total time=   0.0s\n",
      "[CV] END ....................................n_estimators=10; total time=   0.0s\n",
      "Fitting 5 folds for each of 10 candidates, totalling 50 fits\n",
      "[CV] END ..................................C=100, penalty=l1; total time=   0.0s\n",
      "[CV] END ..................................C=100, penalty=l1; total time=   0.0s\n",
      "[CV] END ..................................C=100, penalty=l1; total time=   0.0s\n",
      "[CV] END ..................................C=100, penalty=l1; total time=   0.0s\n",
      "[CV] END ..................................C=100, penalty=l1; total time=   0.0s\n",
      "[CV] END ..................................C=100, penalty=l2; total time=   0.0s\n",
      "[CV] END ..................................C=100, penalty=l2; total time=   0.0s\n",
      "[CV] END ..................................C=100, penalty=l2; total time=   0.0s\n",
      "[CV] END ..................................C=100, penalty=l2; total time=   0.0s\n",
      "[CV] END ..................................C=100, penalty=l2; total time=   0.0s\n",
      "[CV] END ...................................C=10, penalty=l1; total time=   0.0s\n",
      "[CV] END ...................................C=10, penalty=l1; total time=   0.0s\n",
      "[CV] END ...................................C=10, penalty=l1; total time=   0.0s\n",
      "[CV] END ...................................C=10, penalty=l1; total time=   0.0s\n",
      "[CV] END ...................................C=10, penalty=l1; total time=   0.0s\n",
      "[CV] END ...................................C=10, penalty=l2; total time=   0.0s\n",
      "[CV] END ...................................C=10, penalty=l2; total time=   0.0s\n",
      "[CV] END ...................................C=10, penalty=l2; total time=   0.0s\n",
      "[CV] END ...................................C=10, penalty=l2; total time=   0.0s\n",
      "[CV] END ...................................C=10, penalty=l2; total time=   0.0s\n",
      "[CV] END ..................................C=1.0, penalty=l1; total time=   0.0s\n",
      "[CV] END ..................................C=1.0, penalty=l1; total time=   0.0s\n",
      "[CV] END ..................................C=1.0, penalty=l1; total time=   0.0s\n",
      "[CV] END ..................................C=1.0, penalty=l1; total time=   0.0s\n",
      "[CV] END ..................................C=1.0, penalty=l1; total time=   0.0s\n",
      "[CV] END ..................................C=1.0, penalty=l2; total time=   0.0s\n",
      "[CV] END ..................................C=1.0, penalty=l2; total time=   0.0s\n",
      "[CV] END ..................................C=1.0, penalty=l2; total time=   0.0s\n",
      "[CV] END ..................................C=1.0, penalty=l2; total time=   0.0s\n",
      "[CV] END ..................................C=1.0, penalty=l2; total time=   0.0s\n",
      "[CV] END ..................................C=0.1, penalty=l1; total time=   0.0s\n",
      "[CV] END ..................................C=0.1, penalty=l1; total time=   0.0s\n",
      "[CV] END ..................................C=0.1, penalty=l1; total time=   0.0s\n",
      "[CV] END ..................................C=0.1, penalty=l1; total time=   0.0s\n",
      "[CV] END ..................................C=0.1, penalty=l1; total time=   0.0s\n",
      "[CV] END ..................................C=0.1, penalty=l2; total time=   0.0s\n",
      "[CV] END ..................................C=0.1, penalty=l2; total time=   0.0s\n",
      "[CV] END ..................................C=0.1, penalty=l2; total time=   0.0s\n",
      "[CV] END ..................................C=0.1, penalty=l2; total time=   0.0s\n",
      "[CV] END ..................................C=0.1, penalty=l2; total time=   0.0s\n",
      "[CV] END .................................C=0.01, penalty=l1; total time=   0.0s\n",
      "[CV] END .................................C=0.01, penalty=l1; total time=   0.0s\n",
      "[CV] END .................................C=0.01, penalty=l1; total time=   0.0s\n",
      "[CV] END .................................C=0.01, penalty=l1; total time=   0.0s\n",
      "[CV] END .................................C=0.01, penalty=l1; total time=   0.0s\n",
      "[CV] END .................................C=0.01, penalty=l2; total time=   0.0s\n",
      "[CV] END .................................C=0.01, penalty=l2; total time=   0.0s\n",
      "[CV] END .................................C=0.01, penalty=l2; total time=   0.0s\n",
      "[CV] END .................................C=0.01, penalty=l2; total time=   0.0s\n",
      "[CV] END .................................C=0.01, penalty=l2; total time=   0.0s\n"
     ]
    }
   ],
   "source": [
    "metric_df = train_evaluate_model(X_train, X_test, y_train, y_test, model_grid=grid_model_cv, cv=5, verbose=2)"
   ]
  },
  {
   "cell_type": "code",
   "execution_count": 14,
   "id": "5a9c09fd",
   "metadata": {},
   "outputs": [
    {
     "data": {
      "text/html": [
       "<div>\n",
       "<style scoped>\n",
       "    .dataframe tbody tr th:only-of-type {\n",
       "        vertical-align: middle;\n",
       "    }\n",
       "\n",
       "    .dataframe tbody tr th {\n",
       "        vertical-align: top;\n",
       "    }\n",
       "\n",
       "    .dataframe thead th {\n",
       "        text-align: right;\n",
       "    }\n",
       "</style>\n",
       "<table border=\"1\" class=\"dataframe\">\n",
       "  <thead>\n",
       "    <tr style=\"text-align: right;\">\n",
       "      <th></th>\n",
       "      <th>model</th>\n",
       "      <th>accuracy</th>\n",
       "      <th>precision</th>\n",
       "      <th>recall</th>\n",
       "      <th>f1</th>\n",
       "    </tr>\n",
       "  </thead>\n",
       "  <tbody>\n",
       "    <tr>\n",
       "      <th>0</th>\n",
       "      <td>RandomForestClassifier</td>\n",
       "      <td>0.79</td>\n",
       "      <td>0.86</td>\n",
       "      <td>0.79</td>\n",
       "      <td>0.83</td>\n",
       "    </tr>\n",
       "    <tr>\n",
       "      <th>1</th>\n",
       "      <td>LogisticRegression</td>\n",
       "      <td>0.80</td>\n",
       "      <td>0.81</td>\n",
       "      <td>0.90</td>\n",
       "      <td>0.85</td>\n",
       "    </tr>\n",
       "  </tbody>\n",
       "</table>\n",
       "</div>"
      ],
      "text/plain": [
       "                    model  accuracy  precision  recall    f1\n",
       "0  RandomForestClassifier      0.79       0.86    0.79  0.83\n",
       "1      LogisticRegression      0.80       0.81    0.90  0.85"
      ]
     },
     "execution_count": 14,
     "metadata": {},
     "output_type": "execute_result"
    }
   ],
   "source": [
    "metric_df"
   ]
  },
  {
   "cell_type": "code",
   "execution_count": 15,
   "id": "06f62547",
   "metadata": {},
   "outputs": [
    {
     "data": {
      "image/png": "[encoded data removed]",
      "text/plain": [
       "<Figure size 640x480 with 1 Axes>"
      ]
     },
     "metadata": {},
     "output_type": "display_data"
    }
   ],
   "source": [
    "plot_metrics(metric_df)"
   ]
  },
  {
   "cell_type": "code",
   "execution_count": null,
   "id": "5c71573b",
   "metadata": {},
   "outputs": [],
   "source": []
  }
 ],
 "metadata": {
  "kernelspec": {
   "display_name": "Python 3 (ipykernel)",
   "language": "python",
   "name": "python3"
  },
  "language_info": {
   "codemirror_mode": {
    "name": "ipython",
    "version": 3
   },
   "file_extension": ".py",
   "mimetype": "text/x-python",
   "name": "python",
   "nbconvert_exporter": "python",
   "pygments_lexer": "ipython3",
   "version": "3.10.10"
  }
 },
 "nbformat": 4,
 "nbformat_minor": 5
}

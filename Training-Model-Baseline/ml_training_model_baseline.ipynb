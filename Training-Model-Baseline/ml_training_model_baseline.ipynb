{
 "cells": [
  {
   "cell_type": "markdown",
   "id": "fecba0ca",
   "metadata": {},
   "source": [
    "Let's take a look the basic process to fit a model in machine learning. We are going to assume that the data is already clean, \n",
    "since the purpose here is not perform exploratory data analysis but to create a model using scikit-learn framework."
   ]
  },
  {
   "cell_type": "code",
   "execution_count": 2,
   "id": "33029545",
   "metadata": {},
   "outputs": [],
   "source": [
    "import pandas as pd\n",
    "import numpy as np\n",
    "import matplotlib.pyplot as plt\n",
    "import seaborn as sns\n",
    "\n",
    "## MODELS ##\n",
    "from sklearn.preprocessing import PolynomialFeatures\n",
    "from sklearn.model_selection import train_test_split, cross_val_score, cross_validate, GridSearchCV\n",
    "from sklearn.ensemble import RandomForestClassifier\n",
    "from sklearn.linear_model import LinearRegression\n",
    "from sklearn.svm import SVC\n",
    "\n",
    "## METRICS ##\n",
    "# classificaton models\n",
    "from sklearn.metrics import accuracy_score, precision_score, recall_score, f1_score\n",
    "from sklearn.metrics import classification_report, confusion_matrix\n",
    "# regression models\n",
    "from sklearn.metrics import mean_absolute_error, mean_squared_error, r2_score\n",
    "\n",
    "# in case you want silence warnings\n",
    "#import warnings\n",
    "#warnings.filterwarnings(\"ignore\") #\"default\""
   ]
  },
  {
   "cell_type": "markdown",
   "id": "ee7edb55",
   "metadata": {},
   "source": [
    "### Function Definitions"
   ]
  },
  {
   "cell_type": "code",
   "execution_count": 3,
   "id": "f714f45d",
   "metadata": {},
   "outputs": [],
   "source": [
    "def print_performance_metrics_aprf(y_true, y_pred, average=\"binary\"):\n",
    "    \"\"\"\n",
    "    Combine the main classification metrics accuracy, precision, recall and f1 score.\n",
    "    Parameters:\n",
    "        y_true: the true value from the dataset\n",
    "        y_pred: the precitions from the model\n",
    "        avarage: used in case it is a multi-class classification\n",
    "    \"\"\"\n",
    "    print(f\"Accuracy: {accuracy_score(y_true, y_pred)*100:.2f}%\")\n",
    "    print(f\"Precision: {precision_score(y_true, y_pred, average=average)*100:.2f}%\")\n",
    "    print(f\"Recall: {recall_score(y_true, y_pred, average=average)*100:.2f}%\")\n",
    "    print(f\"F1 Score: {f1_score(y_true, y_pred, average=average)*100:.2f}%\")"
   ]
  },
  {
   "cell_type": "code",
   "execution_count": 4,
   "id": "b01fb940",
   "metadata": {},
   "outputs": [],
   "source": [
    "def plot_classification_metrics(y_true, y_pred, average=\"binary\"):\n",
    "    \"\"\"\n",
    "    Create a simple plot with all four classification metrics.\n",
    "    Parameters:\n",
    "        y_true: the true value from the dataset\n",
    "        y_pred: the precitions from the model\n",
    "        avarage: used in case it is a multi-class classification\n",
    "    \"\"\"\n",
    "    metrics = [0,0,0,0]\n",
    "    metrics[0] = accuracy_score(y_true, y_pred)\n",
    "    metrics[1] = precision_score(y_true, y_pred, average=average)\n",
    "    metrics[2] = recall_score(y_true, y_pred, average=average)\n",
    "    metrics[3] = f1_score(y_true, y_pred, average=average)\n",
    "    print(metrics)\n",
    "    plt.bar(x=[0,1,2,3], height=metrics)\n",
    "    plt.xticks([0,1,2,3],['Accuracy','Precision','Recall','F1-score'])\n",
    "    plt.ylim([.6,1])\n",
    "    plt.legend(['Metrics'])\n",
    "    plt.title('Performance metrics')\n",
    "    plt.show()"
   ]
  },
  {
   "cell_type": "code",
   "execution_count": 5,
   "id": "9550037c",
   "metadata": {},
   "outputs": [],
   "source": [
    "def get_metric_names(metric_list: list):\n",
    "    \"\"\"\n",
    "    The function receives a list of substrings and it will return all metrics that contains the substrings.\n",
    "    Parameters:\n",
    "        metric_list (list): list with substrings of potential metric name.\n",
    "    return:\n",
    "        a list with all metrics that matches the substrings provided\n",
    "    \"\"\"\n",
    "    from sklearn.metrics import SCORERS\n",
    "    \n",
    "    result = set()\n",
    "    metrics = []\n",
    "    for metric_substring in metric_list:\n",
    "        metrics = [i for i in SCORERS if metric_substring in i]\n",
    "        \n",
    "        for m in metrics:\n",
    "            result.add(m)\n",
    "    \n",
    "    return result"
   ]
  },
  {
   "cell_type": "code",
   "execution_count": 6,
   "id": "eb36c35d",
   "metadata": {},
   "outputs": [],
   "source": [
    "def split_scaling_features(X, y, scaler, test_size=0.2, random_state=None):\n",
    "    \"\"\"\n",
    "    Function that splits the features into train and test, and in addition, performs feature scaling.\n",
    "    Parameters:\n",
    "        X: features from the dataset\n",
    "        y: label from the dataset\n",
    "        scaler: the type of feature scaling method applied. It can be 'min_max' for MinMaxScaler(), 'max_abs' for MaxAbsScaler(),\n",
    "                and 'std' for StandardScaler().\n",
    "    Return:\n",
    "        X_train, X_test, y_train, y_test\n",
    "    \"\"\"\n",
    "    from sklearn.preprocessing import MinMaxScaler, MaxAbsScaler, StandardScaler\n",
    "    from sklearn.model_selection import train_test_split\n",
    "    \n",
    "    X_train, X_test, y_train, y_test = train_test_split(X, y, test_size=test_size, random_state=random_state)\n",
    "    \n",
    "    if (scaler == \"min_max\"):\n",
    "        scaler = MinMaxScaler()\n",
    "    elif (scaler == \"max_abs\"):\n",
    "        scaler = MaxAbsScaler()\n",
    "    elif (scaler == \"std\"):\n",
    "        scaler = StandardScaler()\n",
    "    else:\n",
    "        scaler = StandardScaler()\n",
    "    \n",
    "    scaler.fit(X_train)\n",
    "    \n",
    "    X_train_scaled = scaler.transform(X_train)\n",
    "    X_test_scaled = scaler.transform(X_test)\n",
    "    \n",
    "    return X_train_scaled, X_test_scaled, y_train, y_test"
   ]
  },
  {
   "cell_type": "markdown",
   "id": "d298d50e",
   "metadata": {},
   "source": [
    "### Model training"
   ]
  },
  {
   "cell_type": "code",
   "execution_count": 7,
   "id": "797f9613",
   "metadata": {},
   "outputs": [],
   "source": [
    "df = pd.read_csv(\"heart-disease.csv\")"
   ]
  },
  {
   "cell_type": "code",
   "execution_count": 8,
   "id": "db2d2f88",
   "metadata": {},
   "outputs": [
    {
     "data": {
      "text/html": [
       "<div>\n",
       "<style scoped>\n",
       "    .dataframe tbody tr th:only-of-type {\n",
       "        vertical-align: middle;\n",
       "    }\n",
       "\n",
       "    .dataframe tbody tr th {\n",
       "        vertical-align: top;\n",
       "    }\n",
       "\n",
       "    .dataframe thead th {\n",
       "        text-align: right;\n",
       "    }\n",
       "</style>\n",
       "<table border=\"1\" class=\"dataframe\">\n",
       "  <thead>\n",
       "    <tr style=\"text-align: right;\">\n",
       "      <th></th>\n",
       "      <th>age</th>\n",
       "      <th>sex</th>\n",
       "      <th>cp</th>\n",
       "      <th>trestbps</th>\n",
       "      <th>chol</th>\n",
       "      <th>fbs</th>\n",
       "      <th>restecg</th>\n",
       "      <th>thalach</th>\n",
       "      <th>exang</th>\n",
       "      <th>oldpeak</th>\n",
       "      <th>slope</th>\n",
       "      <th>ca</th>\n",
       "      <th>thal</th>\n",
       "      <th>target</th>\n",
       "    </tr>\n",
       "  </thead>\n",
       "  <tbody>\n",
       "    <tr>\n",
       "      <th>0</th>\n",
       "      <td>63</td>\n",
       "      <td>1</td>\n",
       "      <td>3</td>\n",
       "      <td>145</td>\n",
       "      <td>233</td>\n",
       "      <td>1</td>\n",
       "      <td>0</td>\n",
       "      <td>150</td>\n",
       "      <td>0</td>\n",
       "      <td>2.3</td>\n",
       "      <td>0</td>\n",
       "      <td>0</td>\n",
       "      <td>1</td>\n",
       "      <td>1</td>\n",
       "    </tr>\n",
       "    <tr>\n",
       "      <th>1</th>\n",
       "      <td>37</td>\n",
       "      <td>1</td>\n",
       "      <td>2</td>\n",
       "      <td>130</td>\n",
       "      <td>250</td>\n",
       "      <td>0</td>\n",
       "      <td>1</td>\n",
       "      <td>187</td>\n",
       "      <td>0</td>\n",
       "      <td>3.5</td>\n",
       "      <td>0</td>\n",
       "      <td>0</td>\n",
       "      <td>2</td>\n",
       "      <td>1</td>\n",
       "    </tr>\n",
       "    <tr>\n",
       "      <th>2</th>\n",
       "      <td>41</td>\n",
       "      <td>0</td>\n",
       "      <td>1</td>\n",
       "      <td>130</td>\n",
       "      <td>204</td>\n",
       "      <td>0</td>\n",
       "      <td>0</td>\n",
       "      <td>172</td>\n",
       "      <td>0</td>\n",
       "      <td>1.4</td>\n",
       "      <td>2</td>\n",
       "      <td>0</td>\n",
       "      <td>2</td>\n",
       "      <td>1</td>\n",
       "    </tr>\n",
       "    <tr>\n",
       "      <th>3</th>\n",
       "      <td>56</td>\n",
       "      <td>1</td>\n",
       "      <td>1</td>\n",
       "      <td>120</td>\n",
       "      <td>236</td>\n",
       "      <td>0</td>\n",
       "      <td>1</td>\n",
       "      <td>178</td>\n",
       "      <td>0</td>\n",
       "      <td>0.8</td>\n",
       "      <td>2</td>\n",
       "      <td>0</td>\n",
       "      <td>2</td>\n",
       "      <td>1</td>\n",
       "    </tr>\n",
       "  </tbody>\n",
       "</table>\n",
       "</div>"
      ],
      "text/plain": [
       "   age  sex  cp  trestbps  chol  fbs  restecg  thalach  exang  oldpeak  slope   \n",
       "0   63    1   3       145   233    1        0      150      0      2.3      0  \\\n",
       "1   37    1   2       130   250    0        1      187      0      3.5      0   \n",
       "2   41    0   1       130   204    0        0      172      0      1.4      2   \n",
       "3   56    1   1       120   236    0        1      178      0      0.8      2   \n",
       "\n",
       "   ca  thal  target  \n",
       "0   0     1       1  \n",
       "1   0     2       1  \n",
       "2   0     2       1  \n",
       "3   0     2       1  "
      ]
     },
     "execution_count": 8,
     "metadata": {},
     "output_type": "execute_result"
    }
   ],
   "source": [
    "df.head(4)"
   ]
  },
  {
   "cell_type": "markdown",
   "id": "906f9bd9",
   "metadata": {},
   "source": [
    "#### Step 1: Separate the features and the label"
   ]
  },
  {
   "cell_type": "code",
   "execution_count": 9,
   "id": "9f72ea4e",
   "metadata": {},
   "outputs": [
    {
     "data": {
      "text/plain": [
       "((303, 13), (303,))"
      ]
     },
     "execution_count": 9,
     "metadata": {},
     "output_type": "execute_result"
    }
   ],
   "source": [
    "# This is a classification model to predict heart disease.\n",
    "X = df.drop(columns=\"target\")\n",
    "y = df[\"target\"]\n",
    "\n",
    "X.shape, y.shape"
   ]
  },
  {
   "cell_type": "markdown",
   "id": "7767f94e",
   "metadata": {},
   "source": [
    "#### Step 2: Split the data into train and test. In addition, perform feature scaling.\n",
    "\n",
    "Cross-validation is a generic term that indicates a methodology to split the data into train (to create the model) and test (to test the performance of the model). The basic methodology is to split into train and test. Another methodology is to split into train, evaluation (used to fine tuning the hyperparameters) and test (the truly unseen data used to perform the final test).\n",
    "\n",
    "A variation of train/evaluation/test sets is to use cros_val_score() or cross_validate() function. cross_validate function returns more information and it allows to use compute more performance metrics. That's what we are going to do."
   ]
  },
  {
   "cell_type": "code",
   "execution_count": 10,
   "id": "a0f7bca4",
   "metadata": {},
   "outputs": [],
   "source": [
    "# let's use the function split_scaling_features, defined above, to perform train/test split and feature scaling\n",
    "X_train, X_test, y_train, y_test = split_scaling_features(X, y, scaler=\"min_max\", test_size=0.3, random_state=7)"
   ]
  },
  {
   "cell_type": "code",
   "execution_count": 11,
   "id": "d931a205",
   "metadata": {},
   "outputs": [
    {
     "data": {
      "text/plain": [
       "((212, 13), (91, 13), (212,), (91,))"
      ]
     },
     "execution_count": 11,
     "metadata": {},
     "output_type": "execute_result"
    }
   ],
   "source": [
    "X_train.shape, X_test.shape, y_train.shape, y_test.shape"
   ]
  },
  {
   "cell_type": "markdown",
   "id": "b7f8b38f",
   "metadata": {},
   "source": [
    "Step 3: Choose the model based on the type of problem. In this case, this is a classificaiton problem, and we use random forest estimator."
   ]
  },
  {
   "cell_type": "code",
   "execution_count": 12,
   "id": "45eacc01",
   "metadata": {},
   "outputs": [],
   "source": [
    "model = RandomForestClassifier(n_estimators=100, max_features='sqrt')"
   ]
  },
  {
   "cell_type": "code",
   "execution_count": 13,
   "id": "6fb535b8",
   "metadata": {},
   "outputs": [
    {
     "data": {
      "text/plain": [
       "{'max_error',\n",
       " 'neg_mean_absolute_error',\n",
       " 'neg_mean_absolute_percentage_error',\n",
       " 'neg_mean_squared_error',\n",
       " 'neg_mean_squared_log_error',\n",
       " 'neg_median_absolute_error',\n",
       " 'neg_root_mean_squared_error'}"
      ]
     },
     "execution_count": 13,
     "metadata": {},
     "output_type": "execute_result"
    }
   ],
   "source": [
    "# we use 5 folds (cv=5). The scoring parameters is the errors you want to measure. You need to pass the correct name. \n",
    "# Go to https://scikit-learn.org/stable/modules/model_evaluation.html for a complete list of metrics you can use.\n",
    "# You can also use the funciton above get_metric_names() that returns the metrics from a substring of metrics\n",
    "\n",
    "# I want metrics with contains error and root in their names. For this classification metrics. Let's see what it returns:\n",
    "get_metric_names([\"error\", \"root\"])"
   ]
  },
  {
   "cell_type": "code",
   "execution_count": 14,
   "id": "38410681",
   "metadata": {},
   "outputs": [],
   "source": [
    "scores_cv = cross_validate(model, X_train, y_train, scoring=[\"neg_mean_absolute_error\",\"neg_root_mean_squared_error\"], cv=5)\n",
    "#OR \n",
    "#scores_cv = cross_val_score(model, X_train, y_train, scoring=\"neg_root_mean_squared_error\", cv=5)"
   ]
  },
  {
   "cell_type": "code",
   "execution_count": 15,
   "id": "b280e8d3",
   "metadata": {},
   "outputs": [
    {
     "data": {
      "text/plain": [
       "{'fit_time': array([0.31000376, 0.3343792 , 0.31540275, 0.27798295, 0.31803226]),\n",
       " 'score_time': array([0.02154946, 0.02779198, 0.01570535, 0.01727295, 0.02190852]),\n",
       " 'test_neg_mean_absolute_error': array([-0.1627907 , -0.23255814, -0.07142857, -0.0952381 , -0.0952381 ]),\n",
       " 'test_neg_root_mean_squared_error': array([-0.40347329, -0.48224282, -0.26726124, -0.3086067 , -0.3086067 ])}"
      ]
     },
     "execution_count": 15,
     "metadata": {},
     "output_type": "execute_result"
    }
   ],
   "source": [
    "scores_cv"
   ]
  },
  {
   "cell_type": "code",
   "execution_count": 16,
   "id": "c5783355",
   "metadata": {},
   "outputs": [
    {
     "data": {
      "text/html": [
       "<div>\n",
       "<style scoped>\n",
       "    .dataframe tbody tr th:only-of-type {\n",
       "        vertical-align: middle;\n",
       "    }\n",
       "\n",
       "    .dataframe tbody tr th {\n",
       "        vertical-align: top;\n",
       "    }\n",
       "\n",
       "    .dataframe thead th {\n",
       "        text-align: right;\n",
       "    }\n",
       "</style>\n",
       "<table border=\"1\" class=\"dataframe\">\n",
       "  <thead>\n",
       "    <tr style=\"text-align: right;\">\n",
       "      <th></th>\n",
       "      <th>fit_time</th>\n",
       "      <th>score_time</th>\n",
       "      <th>test_neg_mean_absolute_error</th>\n",
       "      <th>test_neg_root_mean_squared_error</th>\n",
       "    </tr>\n",
       "  </thead>\n",
       "  <tbody>\n",
       "    <tr>\n",
       "      <th>0</th>\n",
       "      <td>0.310004</td>\n",
       "      <td>0.021549</td>\n",
       "      <td>-0.162791</td>\n",
       "      <td>-0.403473</td>\n",
       "    </tr>\n",
       "    <tr>\n",
       "      <th>1</th>\n",
       "      <td>0.334379</td>\n",
       "      <td>0.027792</td>\n",
       "      <td>-0.232558</td>\n",
       "      <td>-0.482243</td>\n",
       "    </tr>\n",
       "    <tr>\n",
       "      <th>2</th>\n",
       "      <td>0.315403</td>\n",
       "      <td>0.015705</td>\n",
       "      <td>-0.071429</td>\n",
       "      <td>-0.267261</td>\n",
       "    </tr>\n",
       "    <tr>\n",
       "      <th>3</th>\n",
       "      <td>0.277983</td>\n",
       "      <td>0.017273</td>\n",
       "      <td>-0.095238</td>\n",
       "      <td>-0.308607</td>\n",
       "    </tr>\n",
       "    <tr>\n",
       "      <th>4</th>\n",
       "      <td>0.318032</td>\n",
       "      <td>0.021909</td>\n",
       "      <td>-0.095238</td>\n",
       "      <td>-0.308607</td>\n",
       "    </tr>\n",
       "  </tbody>\n",
       "</table>\n",
       "</div>"
      ],
      "text/plain": [
       "   fit_time  score_time  test_neg_mean_absolute_error   \n",
       "0  0.310004    0.021549                     -0.162791  \\\n",
       "1  0.334379    0.027792                     -0.232558   \n",
       "2  0.315403    0.015705                     -0.071429   \n",
       "3  0.277983    0.017273                     -0.095238   \n",
       "4  0.318032    0.021909                     -0.095238   \n",
       "\n",
       "   test_neg_root_mean_squared_error  \n",
       "0                         -0.403473  \n",
       "1                         -0.482243  \n",
       "2                         -0.267261  \n",
       "3                         -0.308607  \n",
       "4                         -0.308607  "
      ]
     },
     "execution_count": 16,
     "metadata": {},
     "output_type": "execute_result"
    }
   ],
   "source": [
    "pd.DataFrame(scores_cv)"
   ]
  },
  {
   "cell_type": "code",
   "execution_count": 17,
   "id": "aa8f49fb",
   "metadata": {},
   "outputs": [
    {
     "data": {
      "text/plain": [
       "fit_time                            0.311160\n",
       "score_time                          0.020846\n",
       "test_neg_mean_absolute_error        0.131451\n",
       "test_neg_root_mean_squared_error    0.354038\n",
       "dtype: float64"
      ]
     },
     "execution_count": 17,
     "metadata": {},
     "output_type": "execute_result"
    }
   ],
   "source": [
    "abs(pd.DataFrame(scores_cv).mean())"
   ]
  },
  {
   "cell_type": "code",
   "execution_count": 18,
   "id": "0eace845",
   "metadata": {},
   "outputs": [],
   "source": [
    "# We can tuning the hyperparameters until we are satisfied with the performance.\n",
    "# Now we need to fit to get the final model.\n",
    "model.fit(X_train, y_train);"
   ]
  },
  {
   "cell_type": "code",
   "execution_count": 19,
   "id": "a346c8e2",
   "metadata": {},
   "outputs": [],
   "source": [
    "y_pred = model.predict(X_test)"
   ]
  },
  {
   "cell_type": "code",
   "execution_count": 20,
   "id": "5e3dfd35",
   "metadata": {},
   "outputs": [
    {
     "data": {
      "text/plain": [
       "array([1, 1, 1, 1, 1, 1, 1, 0, 1, 1, 1, 0, 1, 1, 0, 0, 1, 1, 0, 1, 0, 1,\n",
       "       0, 0, 1, 0, 0, 1, 1, 1, 1, 1, 1, 0, 1, 1, 1, 1, 1, 1, 0, 1, 1, 0,\n",
       "       0, 0, 0, 0, 1, 1, 1, 0, 1, 0, 0, 1, 1, 0, 0, 0, 1, 1, 1, 0, 0, 0,\n",
       "       0, 1, 1, 0, 0, 1, 1, 0, 1, 1, 0, 0, 1, 0, 1, 1, 1, 1, 0, 0, 1, 0,\n",
       "       0, 1, 1], dtype=int64)"
      ]
     },
     "execution_count": 20,
     "metadata": {},
     "output_type": "execute_result"
    }
   ],
   "source": [
    "y_pred"
   ]
  },
  {
   "cell_type": "code",
   "execution_count": 21,
   "id": "2987d258",
   "metadata": {},
   "outputs": [
    {
     "name": "stdout",
     "output_type": "stream",
     "text": [
      "[0.7362637362637363, 0.7037037037037037, 0.8260869565217391, 0.76]\n"
     ]
    },
    {
     "data": {
      "image/png": "[encoded data removed]",
      "text/plain": [
       "<Figure size 640x480 with 1 Axes>"
      ]
     },
     "metadata": {},
     "output_type": "display_data"
    }
   ],
   "source": [
    "# function to disply the four main classification metrics\n",
    "plot_classification_metrics(y_true=y_test, y_pred=y_pred)"
   ]
  },
  {
   "cell_type": "code",
   "execution_count": 22,
   "id": "96145ef6",
   "metadata": {},
   "outputs": [
    {
     "name": "stdout",
     "output_type": "stream",
     "text": [
      "Accuracy: 73.63%\n",
      "Precision: 70.37%\n",
      "Recall: 82.61%\n",
      "F1 Score: 76.00%\n"
     ]
    }
   ],
   "source": [
    "print_performance_metrics_aprf(y_true=y_test, y_pred=y_pred)"
   ]
  },
  {
   "cell_type": "markdown",
   "id": "3d1535fc",
   "metadata": {},
   "source": [
    "Step 4: For completeness, we can use sklearn grid search function to adjust hyperparameters. With grid search we can test a model on many possilbe combination of hyperparameters."
   ]
  },
  {
   "cell_type": "code",
   "execution_count": 23,
   "id": "e86f3614",
   "metadata": {},
   "outputs": [],
   "source": [
    "# create a dictionary with the name of the hyperparameters we want to test.\n",
    "grid_serach_parms = {\"n_estimators\": [64, 100, 128, 200],\n",
    "                     \"max_features\": [3, 4, 5],\n",
    "                     \"bootstrap\": [True, False]\n",
    "    \n",
    "}"
   ]
  },
  {
   "cell_type": "code",
   "execution_count": 24,
   "id": "669a7fb7",
   "metadata": {},
   "outputs": [],
   "source": [
    "model_grid = RandomForestClassifier()\n",
    "# return the final model with the best parameters from the grid dictionary\n",
    "grid_result = GridSearchCV(model_grid, grid_serach_parms)"
   ]
  },
  {
   "cell_type": "code",
   "execution_count": 25,
   "id": "49cc012e",
   "metadata": {},
   "outputs": [
    {
     "data": {
      "text/plain": [
       "{'bootstrap': True, 'max_features': 3, 'n_estimators': 128}"
      ]
     },
     "execution_count": 25,
     "metadata": {},
     "output_type": "execute_result"
    }
   ],
   "source": [
    "grid_result.fit(X_train, y_train)\n",
    "grid_result.best_params_"
   ]
  },
  {
   "cell_type": "code",
   "execution_count": 26,
   "id": "aaa43649",
   "metadata": {},
   "outputs": [],
   "source": [
    "y_pred_grid = grid_result.predict(X_test)"
   ]
  },
  {
   "cell_type": "code",
   "execution_count": 27,
   "id": "03b85cf5",
   "metadata": {},
   "outputs": [
    {
     "name": "stdout",
     "output_type": "stream",
     "text": [
      "[0.7252747252747253, 0.6842105263157895, 0.8478260869565217, 0.7572815533980581]\n"
     ]
    },
    {
     "data": {
      "image/png": "[encoded data removed]",
      "text/plain": [
       "<Figure size 640x480 with 1 Axes>"
      ]
     },
     "metadata": {},
     "output_type": "display_data"
    }
   ],
   "source": [
    "# function to disply the four main classification metrics\n",
    "plot_classification_metrics(y_true=y_test, y_pred=y_pred_grid)"
   ]
  },
  {
   "cell_type": "code",
   "execution_count": 28,
   "id": "92c3c9ce",
   "metadata": {},
   "outputs": [
    {
     "name": "stdout",
     "output_type": "stream",
     "text": [
      "Accuracy: 72.53%\n",
      "Precision: 68.42%\n",
      "Recall: 84.78%\n",
      "F1 Score: 75.73%\n"
     ]
    }
   ],
   "source": [
    "print_performance_metrics_aprf(y_true=y_test, y_pred=y_pred_grid)"
   ]
  },
  {
   "cell_type": "markdown",
   "id": "0106ee9e",
   "metadata": {},
   "source": [
    "Step 5: Save the model"
   ]
  },
  {
   "cell_type": "code",
   "execution_count": 29,
   "id": "6b0c9d26",
   "metadata": {},
   "outputs": [
    {
     "data": {
      "text/plain": [
       "['heart_disease_model.joblib']"
      ]
     },
     "execution_count": 29,
     "metadata": {},
     "output_type": "execute_result"
    }
   ],
   "source": [
    "from joblib import dump, load\n",
    "dump(grid_result, 'heart_disease_model.joblib') "
   ]
  },
  {
   "cell_type": "code",
   "execution_count": null,
   "id": "fce6ec19",
   "metadata": {},
   "outputs": [],
   "source": []
  }
 ],
 "metadata": {
  "kernelspec": {
   "display_name": "Python 3 (ipykernel)",
   "language": "python",
   "name": "python3"
  },
  "language_info": {
   "codemirror_mode": {
    "name": "ipython",
    "version": 3
   },
   "file_extension": ".py",
   "mimetype": "text/x-python",
   "name": "python",
   "nbconvert_exporter": "python",
   "pygments_lexer": "ipython3",
   "version": "3.10.10"
  }
 },
 "nbformat": 4,
 "nbformat_minor": 5
}
